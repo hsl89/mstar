{
 "cells": [
  {
   "cell_type": "code",
   "execution_count": 1,
   "id": "547b8552-9dfd-41fe-af01-535694ac531c",
   "metadata": {},
   "outputs": [],
   "source": [
    "from mstar import AutoModel, AutoTokenizer"
   ]
  },
  {
   "cell_type": "markdown",
   "id": "ce30cbb0-a06a-4bdb-bfac-faf486b813d2",
   "metadata": {},
   "source": [
    "## Load mstar gpt2 model 600M model size"
   ]
  },
  {
   "cell_type": "code",
   "execution_count": 2,
   "id": "938c9358-ccd8-458d-978e-a059631c32a2",
   "metadata": {},
   "outputs": [
    {
     "name": "stderr",
     "output_type": "stream",
     "text": [
      "Load from cache /home/ubuntu/.cache/mstar/transformers/mstar-gpt2-600M/main/\n"
     ]
    },
    {
     "name": "stdout",
     "output_type": "stream",
     "text": [
      "Loading mstar model mstar-gpt2-600M\n"
     ]
    }
   ],
   "source": [
    "model = AutoModel.from_pretrained(\"mstar-gpt2-600M\")"
   ]
  },
  {
   "cell_type": "code",
   "execution_count": 3,
   "id": "0fd5db9c-a788-49d4-94ff-51b1e10caec4",
   "metadata": {},
   "outputs": [
    {
     "name": "stderr",
     "output_type": "stream",
     "text": [
      "Load from s3 bucket mstar-models\n"
     ]
    },
    {
     "name": "stdout",
     "output_type": "stream",
     "text": [
      "Loading mstar model mstar-gpt2-600M\n"
     ]
    }
   ],
   "source": [
    "model = AutoModel.from_pretrained(\"mstar-gpt2-600M\", force_download=True)"
   ]
  },
  {
   "cell_type": "code",
   "execution_count": 4,
   "id": "74b055d0-85ff-4ca1-b3a3-9b237f7e85fa",
   "metadata": {
    "tags": []
   },
   "outputs": [
    {
     "data": {
      "text/plain": [
       "MStarGPT2Config {\n",
       "  \"_name_or_path\": \"/home/ubuntu/.cache/mstar/transformers/mstar-gpt2-600M/main/\",\n",
       "  \"_num_labels\": 1,\n",
       "  \"activation_function\": \"gelu_new\",\n",
       "  \"architectures\": [\n",
       "    \"MStarGPT2Model\"\n",
       "  ],\n",
       "  \"attn_pdrop\": 0.1,\n",
       "  \"bos_token_id\": 50256,\n",
       "  \"cache_dir\": \"/mnt/cache\",\n",
       "  \"embd_pdrop\": 0.1,\n",
       "  \"eos_token_id\": 50256,\n",
       "  \"gradient_checkpointing\": false,\n",
       "  \"id2label\": {\n",
       "    \"0\": \"LABEL_0\"\n",
       "  },\n",
       "  \"initializer_range\": 0.02,\n",
       "  \"label2id\": {\n",
       "    \"LABEL_0\": 0\n",
       "  },\n",
       "  \"layer_norm_epsilon\": 1e-05,\n",
       "  \"max_length\": 512,\n",
       "  \"model_type\": \"mstar-gpt2\",\n",
       "  \"n_ctx\": 1024,\n",
       "  \"n_embd\": 1360,\n",
       "  \"n_head\": 16,\n",
       "  \"n_inner\": null,\n",
       "  \"n_layer\": 24,\n",
       "  \"n_positions\": 1024,\n",
       "  \"num_beams\": 5,\n",
       "  \"reorder_and_upcast_attn\": false,\n",
       "  \"resid_pdrop\": 0.1,\n",
       "  \"scale_attn_by_inverse_layer_idx\": false,\n",
       "  \"scale_attn_weights\": true,\n",
       "  \"summary_activation\": null,\n",
       "  \"summary_first_dropout\": 0.1,\n",
       "  \"summary_proj_to_labels\": true,\n",
       "  \"summary_type\": \"cls_index\",\n",
       "  \"summary_use_proj\": true,\n",
       "  \"task_specific_params\": {\n",
       "    \"text-generation\": {\n",
       "      \"do_sample\": true,\n",
       "      \"max_length\": 50\n",
       "    }\n",
       "  },\n",
       "  \"torch_dtype\": \"float32\",\n",
       "  \"transformers_version\": \"4.16.2\",\n",
       "  \"use_cache\": false,\n",
       "  \"vocab_size\": 51206\n",
       "}"
      ]
     },
     "execution_count": 4,
     "metadata": {},
     "output_type": "execute_result"
    }
   ],
   "source": [
    "model.config"
   ]
  },
  {
   "cell_type": "markdown",
   "id": "cf24818e-e2aa-4799-8af4-fc5bbcee933d",
   "metadata": {},
   "source": [
    "## Load mstar gpt2 model with LM head 600M model size"
   ]
  },
  {
   "cell_type": "code",
   "execution_count": 5,
   "id": "403c76d5-7c3b-41f5-94b3-80292fdd4d19",
   "metadata": {},
   "outputs": [
    {
     "name": "stderr",
     "output_type": "stream",
     "text": [
      "Load from cache /home/ubuntu/.cache/mstar/transformers/mstar-gpt2LMHead-600M/main/\n"
     ]
    },
    {
     "name": "stdout",
     "output_type": "stream",
     "text": [
      "Loading mstar model mstar-gpt2LMHead-600M\n"
     ]
    }
   ],
   "source": [
    "model = AutoModel.from_pretrained(\"mstar-gpt2LMHead-600M\")"
   ]
  },
  {
   "cell_type": "code",
   "execution_count": 6,
   "id": "4e5a844d-0f5b-4a33-9251-7af00e645c2a",
   "metadata": {
    "tags": []
   },
   "outputs": [
    {
     "data": {
      "text/plain": [
       "MStarGPT2LMHeadConfig {\n",
       "  \"_name_or_path\": \"/home/ubuntu/.cache/mstar/transformers/mstar-gpt2LMHead-600M/main/\",\n",
       "  \"_num_labels\": 1,\n",
       "  \"activation_function\": \"gelu_new\",\n",
       "  \"architectures\": [\n",
       "    \"MStarGPT2LMHeadModel\"\n",
       "  ],\n",
       "  \"attn_pdrop\": 0.1,\n",
       "  \"bos_token_id\": 50256,\n",
       "  \"cache_dir\": \"/mnt/cache\",\n",
       "  \"embd_pdrop\": 0.1,\n",
       "  \"eos_token_id\": 50256,\n",
       "  \"gradient_checkpointing\": false,\n",
       "  \"id2label\": {\n",
       "    \"0\": \"LABEL_0\"\n",
       "  },\n",
       "  \"initializer_range\": 0.02,\n",
       "  \"label2id\": {\n",
       "    \"LABEL_0\": 0\n",
       "  },\n",
       "  \"layer_norm_epsilon\": 1e-05,\n",
       "  \"max_length\": 512,\n",
       "  \"model_type\": \"mstar-gpt2LMHead\",\n",
       "  \"n_ctx\": 1024,\n",
       "  \"n_embd\": 1360,\n",
       "  \"n_head\": 16,\n",
       "  \"n_inner\": null,\n",
       "  \"n_layer\": 24,\n",
       "  \"n_positions\": 1024,\n",
       "  \"num_beams\": 5,\n",
       "  \"reorder_and_upcast_attn\": false,\n",
       "  \"resid_pdrop\": 0.1,\n",
       "  \"scale_attn_by_inverse_layer_idx\": false,\n",
       "  \"scale_attn_weights\": true,\n",
       "  \"summary_activation\": null,\n",
       "  \"summary_first_dropout\": 0.1,\n",
       "  \"summary_proj_to_labels\": true,\n",
       "  \"summary_type\": \"cls_index\",\n",
       "  \"summary_use_proj\": true,\n",
       "  \"task_specific_params\": {\n",
       "    \"text-generation\": {\n",
       "      \"do_sample\": true,\n",
       "      \"max_length\": 50\n",
       "    }\n",
       "  },\n",
       "  \"torch_dtype\": \"float32\",\n",
       "  \"transformers_version\": \"4.16.2\",\n",
       "  \"use_cache\": false,\n",
       "  \"vocab_size\": 51206\n",
       "}"
      ]
     },
     "execution_count": 6,
     "metadata": {},
     "output_type": "execute_result"
    }
   ],
   "source": [
    "model.config"
   ]
  },
  {
   "cell_type": "markdown",
   "id": "93aa49c7-82da-4840-82ff-2b8229f73235",
   "metadata": {},
   "source": [
    "## Load mstar gpt2 model 2.7B model size"
   ]
  },
  {
   "cell_type": "code",
   "execution_count": 7,
   "id": "48bdd765-c5ed-4def-9a77-d2cba18b4cca",
   "metadata": {},
   "outputs": [
    {
     "name": "stderr",
     "output_type": "stream",
     "text": [
      "Load from cache /home/ubuntu/.cache/mstar/transformers/mstar-gpt2LMHead-2.7B/main/\n"
     ]
    },
    {
     "name": "stdout",
     "output_type": "stream",
     "text": [
      "Loading mstar model mstar-gpt2LMHead-2.7B\n"
     ]
    }
   ],
   "source": [
    "model = AutoModel.from_pretrained(\"mstar-gpt2LMHead-2.7B\")"
   ]
  },
  {
   "cell_type": "code",
   "execution_count": 8,
   "id": "282b8133-5944-4a16-a81a-0534a1973845",
   "metadata": {
    "tags": []
   },
   "outputs": [
    {
     "data": {
      "text/plain": [
       "MStarGPT2LMHeadConfig {\n",
       "  \"_name_or_path\": \"/home/ubuntu/.cache/mstar/transformers/mstar-gpt2LMHead-2.7B/main/\",\n",
       "  \"_num_labels\": 1,\n",
       "  \"activation_function\": \"gelu_new\",\n",
       "  \"architectures\": [\n",
       "    \"MStarGPT2LMHeadModel\"\n",
       "  ],\n",
       "  \"attn_pdrop\": 0.1,\n",
       "  \"bos_token_id\": 50006,\n",
       "  \"cache_dir\": \"/mnt/cache\",\n",
       "  \"embd_pdrop\": 0.1,\n",
       "  \"eos_token_id\": 50006,\n",
       "  \"gradient_checkpointing\": false,\n",
       "  \"id2label\": {\n",
       "    \"0\": \"LABEL_0\"\n",
       "  },\n",
       "  \"initializer_range\": 0.02,\n",
       "  \"label2id\": {\n",
       "    \"LABEL_0\": 0\n",
       "  },\n",
       "  \"layer_norm_epsilon\": 1e-05,\n",
       "  \"max_length\": 512,\n",
       "  \"model_type\": \"mstar-gpt2LMHead\",\n",
       "  \"n_ctx\": 1024,\n",
       "  \"n_embd\": 2560,\n",
       "  \"n_head\": 32,\n",
       "  \"n_inner\": null,\n",
       "  \"n_layer\": 32,\n",
       "  \"n_positions\": 1024,\n",
       "  \"num_beams\": 5,\n",
       "  \"reorder_and_upcast_attn\": false,\n",
       "  \"resid_pdrop\": 0.1,\n",
       "  \"scale_attn_by_inverse_layer_idx\": false,\n",
       "  \"scale_attn_weights\": true,\n",
       "  \"summary_activation\": null,\n",
       "  \"summary_first_dropout\": 0.1,\n",
       "  \"summary_proj_to_labels\": true,\n",
       "  \"summary_type\": \"cls_index\",\n",
       "  \"summary_use_proj\": true,\n",
       "  \"task_specific_params\": {\n",
       "    \"text-generation\": {\n",
       "      \"do_sample\": true,\n",
       "      \"max_length\": 50\n",
       "    }\n",
       "  },\n",
       "  \"torch_dtype\": \"float32\",\n",
       "  \"transformers_version\": \"4.16.2\",\n",
       "  \"use_cache\": false,\n",
       "  \"vocab_size\": 51206\n",
       "}"
      ]
     },
     "execution_count": 8,
     "metadata": {},
     "output_type": "execute_result"
    }
   ],
   "source": [
    "model.config"
   ]
  },
  {
   "cell_type": "markdown",
   "id": "0c9e7f41-9137-4fb8-9dba-2bbbea6446a7",
   "metadata": {},
   "source": [
    "## Load any existing HuggingFace models"
   ]
  },
  {
   "cell_type": "code",
   "execution_count": 9,
   "id": "caf59bf3-29c9-4cb8-821f-ec15b9469fc1",
   "metadata": {
    "tags": []
   },
   "outputs": [
    {
     "name": "stdout",
     "output_type": "stream",
     "text": [
      "Loading huggingface model prajjwal1/bert-mini\n"
     ]
    },
    {
     "name": "stderr",
     "output_type": "stream",
     "text": [
      "Some weights of the model checkpoint at prajjwal1/bert-mini were not used when initializing BertModel: ['cls.predictions.decoder.weight', 'cls.seq_relationship.bias', 'cls.predictions.transform.LayerNorm.bias', 'cls.predictions.decoder.bias', 'cls.seq_relationship.weight', 'cls.predictions.transform.dense.weight', 'cls.predictions.bias', 'cls.predictions.transform.LayerNorm.weight', 'cls.predictions.transform.dense.bias']\n",
      "- This IS expected if you are initializing BertModel from the checkpoint of a model trained on another task or with another architecture (e.g. initializing a BertForSequenceClassification model from a BertForPreTraining model).\n",
      "- This IS NOT expected if you are initializing BertModel from the checkpoint of a model that you expect to be exactly identical (initializing a BertForSequenceClassification model from a BertForSequenceClassification model).\n"
     ]
    }
   ],
   "source": [
    "model = AutoModel.from_pretrained(\"prajjwal1/bert-mini\")"
   ]
  },
  {
   "cell_type": "code",
   "execution_count": 10,
   "id": "828d1334-4acf-4c9b-8b5c-36dae44dfabd",
   "metadata": {
    "tags": []
   },
   "outputs": [
    {
     "name": "stdout",
     "output_type": "stream",
     "text": [
      "Loading huggingface model prajjwal1/bert-mini\n"
     ]
    },
    {
     "data": {
      "application/vnd.jupyter.widget-view+json": {
       "model_id": "85c663f6bfa3401a9b17447a460303fe",
       "version_major": 2,
       "version_minor": 0
      },
      "text/plain": [
       "Downloading:   0%|          | 0.00/286 [00:00<?, ?B/s]"
      ]
     },
     "metadata": {},
     "output_type": "display_data"
    },
    {
     "data": {
      "application/vnd.jupyter.widget-view+json": {
       "model_id": "450e0a45767e40a5a1da1b7944fafc0f",
       "version_major": 2,
       "version_minor": 0
      },
      "text/plain": [
       "Downloading:   0%|          | 0.00/43.0M [00:00<?, ?B/s]"
      ]
     },
     "metadata": {},
     "output_type": "display_data"
    },
    {
     "name": "stderr",
     "output_type": "stream",
     "text": [
      "Some weights of the model checkpoint at prajjwal1/bert-mini were not used when initializing BertModel: ['cls.predictions.decoder.weight', 'cls.seq_relationship.bias', 'cls.predictions.transform.LayerNorm.bias', 'cls.predictions.decoder.bias', 'cls.seq_relationship.weight', 'cls.predictions.transform.dense.weight', 'cls.predictions.bias', 'cls.predictions.transform.LayerNorm.weight', 'cls.predictions.transform.dense.bias']\n",
      "- This IS expected if you are initializing BertModel from the checkpoint of a model trained on another task or with another architecture (e.g. initializing a BertForSequenceClassification model from a BertForPreTraining model).\n",
      "- This IS NOT expected if you are initializing BertModel from the checkpoint of a model that you expect to be exactly identical (initializing a BertForSequenceClassification model from a BertForSequenceClassification model).\n"
     ]
    }
   ],
   "source": [
    "model = AutoModel.from_pretrained(\"prajjwal1/bert-mini\", force_download=True)"
   ]
  },
  {
   "cell_type": "code",
   "execution_count": 11,
   "id": "413ae2c3-70eb-486a-84eb-cafbb9817e34",
   "metadata": {
    "tags": []
   },
   "outputs": [
    {
     "data": {
      "text/plain": [
       "BertConfig {\n",
       "  \"_name_or_path\": \"prajjwal1/bert-mini\",\n",
       "  \"attention_probs_dropout_prob\": 0.1,\n",
       "  \"classifier_dropout\": null,\n",
       "  \"hidden_act\": \"gelu\",\n",
       "  \"hidden_dropout_prob\": 0.1,\n",
       "  \"hidden_size\": 256,\n",
       "  \"initializer_range\": 0.02,\n",
       "  \"intermediate_size\": 1024,\n",
       "  \"layer_norm_eps\": 1e-12,\n",
       "  \"max_position_embeddings\": 512,\n",
       "  \"model_type\": \"bert\",\n",
       "  \"num_attention_heads\": 4,\n",
       "  \"num_hidden_layers\": 4,\n",
       "  \"pad_token_id\": 0,\n",
       "  \"position_embedding_type\": \"absolute\",\n",
       "  \"transformers_version\": \"4.16.2\",\n",
       "  \"type_vocab_size\": 2,\n",
       "  \"use_cache\": true,\n",
       "  \"vocab_size\": 30522\n",
       "}"
      ]
     },
     "execution_count": 11,
     "metadata": {},
     "output_type": "execute_result"
    }
   ],
   "source": [
    "model.config"
   ]
  },
  {
   "cell_type": "markdown",
   "id": "e7f5cf31-c4b4-4f15-a305-1cc2f136fc98",
   "metadata": {},
   "source": [
    "### Load MStar tokenizer"
   ]
  },
  {
   "cell_type": "code",
   "execution_count": 12,
   "id": "d44564f1-ddea-4433-9705-4bb3738593d7",
   "metadata": {},
   "outputs": [
    {
     "name": "stdout",
     "output_type": "stream",
     "text": [
      "Loading mstar tokenizer mstar-gpt2-600M\n",
      "\n",
      "Loading mstar tokenizer mstar-gpt2-2.7B\n",
      "\n",
      "Loading mstar tokenizer mstar-gpt2LMHead-600M\n",
      "\n",
      "Loading mstar tokenizer mstar-gpt2LMHead-2.7B\n",
      "\n"
     ]
    }
   ],
   "source": [
    "tokenizer = AutoTokenizer.from_pretrained(\"mstar-gpt2-600M\")\n",
    "assert tokenizer(\"hello world\") == {'input_ids': [51201, 6295, 2609], 'attention_mask': [1, 1, 1]}\n",
    "tokenizer = AutoTokenizer.from_pretrained(\"mstar-gpt2-2.7B\")\n",
    "assert tokenizer(\"hello world\") == {'input_ids': [51201, 6295, 2609], 'attention_mask': [1, 1, 1]}\n",
    "tokenizer = AutoTokenizer.from_pretrained(\"mstar-gpt2LMHead-600M\")\n",
    "assert tokenizer(\"hello world\") == {'input_ids': [51201, 6295, 2609], 'attention_mask': [1, 1, 1]}\n",
    "tokenizer = AutoTokenizer.from_pretrained(\"mstar-gpt2LMHead-2.7B\")\n",
    "assert tokenizer(\"hello world\") == {'input_ids': [51201, 6295, 2609], 'attention_mask': [1, 1, 1]}"
   ]
  },
  {
   "cell_type": "code",
   "execution_count": 13,
   "id": "da3c3471-e365-4b7d-be6d-adac9f6f45fc",
   "metadata": {},
   "outputs": [],
   "source": [
    "assert tokenizer(\"hello world\") == {'input_ids': [51201, 6295, 2609], 'attention_mask': [1, 1, 1]}"
   ]
  },
  {
   "cell_type": "code",
   "execution_count": 14,
   "id": "50ed4456-9ef1-446d-8d1c-c4e01a27fefb",
   "metadata": {},
   "outputs": [
    {
     "name": "stdout",
     "output_type": "stream",
     "text": [
      "Loading mstar tokenizer from /mnt/mstar/tokenizers/mstar-gpt2-600M/main/\n",
      "\n"
     ]
    }
   ],
   "source": [
    "tokenizer2 = AutoTokenizer.from_pretrained(\"/mnt/mstar/tokenizers/mstar-gpt2-600M/main/\")"
   ]
  },
  {
   "cell_type": "code",
   "execution_count": 15,
   "id": "da2d4e76-2cda-48b7-abda-6a7de69ac502",
   "metadata": {},
   "outputs": [],
   "source": [
    "assert tokenizer2(\"hello world\") == {'input_ids': [51201, 6295, 2609], 'attention_mask': [1, 1, 1]}"
   ]
  },
  {
   "cell_type": "markdown",
   "id": "7b02f77e-b0fe-4f24-98d2-e57471e2c659",
   "metadata": {},
   "source": [
    "### Load huggingface tokenizer"
   ]
  },
  {
   "cell_type": "code",
   "execution_count": 16,
   "id": "a28d4a06-434f-4c5e-bd09-ddc8e6ff7b5c",
   "metadata": {},
   "outputs": [
    {
     "name": "stdout",
     "output_type": "stream",
     "text": [
      "Loading huggingface tokenizer bert-base-uncased\n",
      "\n"
     ]
    }
   ],
   "source": [
    "tokenizer1 = AutoTokenizer.from_pretrained(\"bert-base-uncased\")\n",
    "tokenizer1.save_pretrained(\"/home/ubuntu/bert-base-uncased/\")"
   ]
  },
  {
   "cell_type": "code",
   "execution_count": 17,
   "id": "d663f490-1fca-4546-a05e-d901257a79ed",
   "metadata": {},
   "outputs": [
    {
     "name": "stdout",
     "output_type": "stream",
     "text": [
      "Loading huggingface tokenizer bert-base-uncased\n",
      "\n"
     ]
    },
    {
     "data": {
      "application/vnd.jupyter.widget-view+json": {
       "model_id": "b8c7dea608414878b3e3e1f2961c4801",
       "version_major": 2,
       "version_minor": 0
      },
      "text/plain": [
       "Downloading:   0%|          | 0.00/28.0 [00:00<?, ?B/s]"
      ]
     },
     "metadata": {},
     "output_type": "display_data"
    },
    {
     "data": {
      "application/vnd.jupyter.widget-view+json": {
       "model_id": "c5621bde09de4e2f915e6b58ff0b025a",
       "version_major": 2,
       "version_minor": 0
      },
      "text/plain": [
       "Downloading:   0%|          | 0.00/570 [00:00<?, ?B/s]"
      ]
     },
     "metadata": {},
     "output_type": "display_data"
    },
    {
     "data": {
      "application/vnd.jupyter.widget-view+json": {
       "model_id": "bea0b825865545a98e71bf174ec5b021",
       "version_major": 2,
       "version_minor": 0
      },
      "text/plain": [
       "Downloading:   0%|          | 0.00/28.0 [00:00<?, ?B/s]"
      ]
     },
     "metadata": {},
     "output_type": "display_data"
    },
    {
     "data": {
      "application/vnd.jupyter.widget-view+json": {
       "model_id": "756a33879b41482a8f4afca59d10e5f5",
       "version_major": 2,
       "version_minor": 0
      },
      "text/plain": [
       "Downloading:   0%|          | 0.00/226k [00:00<?, ?B/s]"
      ]
     },
     "metadata": {},
     "output_type": "display_data"
    },
    {
     "data": {
      "application/vnd.jupyter.widget-view+json": {
       "model_id": "31e051d17017428c88b1c0863edc75b2",
       "version_major": 2,
       "version_minor": 0
      },
      "text/plain": [
       "Downloading:   0%|          | 0.00/455k [00:00<?, ?B/s]"
      ]
     },
     "metadata": {},
     "output_type": "display_data"
    },
    {
     "data": {
      "application/vnd.jupyter.widget-view+json": {
       "model_id": "b186855c4a3c48a1a78b45d51627a8b1",
       "version_major": 2,
       "version_minor": 0
      },
      "text/plain": [
       "Downloading:   0%|          | 0.00/28.0 [00:00<?, ?B/s]"
      ]
     },
     "metadata": {},
     "output_type": "display_data"
    }
   ],
   "source": [
    "tokenizer2 = AutoTokenizer.from_pretrained(\"bert-base-uncased\", force_download=True)"
   ]
  },
  {
   "cell_type": "code",
   "execution_count": 18,
   "id": "2d51b825-2e1c-444f-8e7a-dc2d4f43c771",
   "metadata": {
    "tags": []
   },
   "outputs": [
    {
     "data": {
      "text/plain": [
       "True"
      ]
     },
     "execution_count": 18,
     "metadata": {},
     "output_type": "execute_result"
    }
   ],
   "source": [
    "tokenizer1(\"hello world\") == tokenizer2(\"hello world\")"
   ]
  },
  {
   "cell_type": "code",
   "execution_count": 21,
   "id": "6cbd50e9-6c3d-476e-b095-af2a5ef74776",
   "metadata": {},
   "outputs": [
    {
     "name": "stdout",
     "output_type": "stream",
     "text": [
      "Loading huggingface tokenizer from /home/ubuntu/bert-base-uncased/\n",
      "\n"
     ]
    }
   ],
   "source": [
    "tokenizer3 = AutoTokenizer.from_pretrained(\"/home/ubuntu/bert-base-uncased/\", use_fast=True)"
   ]
  },
  {
   "cell_type": "code",
   "execution_count": 22,
   "id": "50c4b287-8df1-41e9-98b9-9bef7c7ed881",
   "metadata": {},
   "outputs": [],
   "source": [
    "assert tokenizer3.is_fast is True"
   ]
  }
 ],
 "metadata": {
  "kernelspec": {
   "display_name": "Python 3 (ipykernel)",
   "language": "python",
   "name": "python3"
  },
  "language_info": {
   "codemirror_mode": {
    "name": "ipython",
    "version": 3
   },
   "file_extension": ".py",
   "mimetype": "text/x-python",
   "name": "python",
   "nbconvert_exporter": "python",
   "pygments_lexer": "ipython3",
   "version": "3.9.7"
  }
 },
 "nbformat": 4,
 "nbformat_minor": 5
}
